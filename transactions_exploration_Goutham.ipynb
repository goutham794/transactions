{
 "cells": [
  {
   "cell_type": "markdown",
   "metadata": {},
   "source": [
    "# Transactions Data Exploration"
   ]
  },
  {
   "cell_type": "code",
   "execution_count": 80,
   "metadata": {
    "collapsed": true
   },
   "outputs": [],
   "source": [
    "import pandas as pd\n",
    "import os\n",
    "import glob\n",
    "import numpy as np\n",
    "import seaborn as sns\n",
    "import matplotlib.pyplot as plt"
   ]
  },
  {
   "cell_type": "markdown",
   "metadata": {},
   "source": [
    "### All the csv files are read and appended to 1 pandas dataframe."
   ]
  },
  {
   "cell_type": "code",
   "execution_count": 81,
   "metadata": {
    "collapsed": true
   },
   "outputs": [],
   "source": [
    "path = r'./data/'                 \n",
    "all_files = glob.glob(os.path.join(path, \"*.csv\"))   \n",
    "\n",
    "df_from_each_file = (pd.read_csv(f) for f in all_files)\n",
    "transactions_df   = pd.concat(df_from_each_file, ignore_index=True)"
   ]
  },
  {
   "cell_type": "code",
   "execution_count": 82,
   "metadata": {},
   "outputs": [
    {
     "name": "stdout",
     "output_type": "stream",
     "text": [
      "There are 63113 observations and 10 columns\n"
     ]
    }
   ],
   "source": [
    "print('There are %d observations and %d columns' % (transactions_df.shape[0], transactions_df.shape[1]))"
   ]
  },
  {
   "cell_type": "markdown",
   "metadata": {},
   "source": [
    "### There are some missing values which will be dealt with"
   ]
  },
  {
   "cell_type": "code",
   "execution_count": 83,
   "metadata": {},
   "outputs": [
    {
     "data": {
      "text/plain": [
       "SKU Code        0\n",
       "Brand Code     13\n",
       "Category        9\n",
       "Bill Number     0\n",
       "Store Code      0\n",
       "Sale Date       0\n",
       "Sale/Return     0\n",
       "MRP             0\n",
       "Sales Price     0\n",
       "Sales Qty       0\n",
       "dtype: int64"
      ]
     },
     "execution_count": 83,
     "metadata": {},
     "output_type": "execute_result"
    }
   ],
   "source": [
    "transactions_df.isnull().sum()"
   ]
  },
  {
   "cell_type": "markdown",
   "metadata": {},
   "source": [
    "### Converting date column to a datetime type"
   ]
  },
  {
   "cell_type": "code",
   "execution_count": 84,
   "metadata": {
    "collapsed": true
   },
   "outputs": [],
   "source": [
    "transactions_df['Sale Date'] =  pd.to_datetime(transactions_df['Sale Date'], format='%Y-%m-%d')"
   ]
  },
  {
   "cell_type": "markdown",
   "metadata": {},
   "source": [
    "### First 5 observations of the dataframe."
   ]
  },
  {
   "cell_type": "code",
   "execution_count": 85,
   "metadata": {},
   "outputs": [
    {
     "data": {
      "text/html": [
       "<div>\n",
       "<style>\n",
       "    .dataframe thead tr:only-child th {\n",
       "        text-align: right;\n",
       "    }\n",
       "\n",
       "    .dataframe thead th {\n",
       "        text-align: left;\n",
       "    }\n",
       "\n",
       "    .dataframe tbody tr th {\n",
       "        vertical-align: top;\n",
       "    }\n",
       "</style>\n",
       "<table border=\"1\" class=\"dataframe\">\n",
       "  <thead>\n",
       "    <tr style=\"text-align: right;\">\n",
       "      <th></th>\n",
       "      <th>SKU Code</th>\n",
       "      <th>Brand Code</th>\n",
       "      <th>Category</th>\n",
       "      <th>Bill Number</th>\n",
       "      <th>Store Code</th>\n",
       "      <th>Sale Date</th>\n",
       "      <th>Sale/Return</th>\n",
       "      <th>MRP</th>\n",
       "      <th>Sales Price</th>\n",
       "      <th>Sales Qty</th>\n",
       "    </tr>\n",
       "  </thead>\n",
       "  <tbody>\n",
       "    <tr>\n",
       "      <th>0</th>\n",
       "      <td>SKU1181</td>\n",
       "      <td>BRAND041</td>\n",
       "      <td>Cat06</td>\n",
       "      <td>BILL06415</td>\n",
       "      <td>Store 1</td>\n",
       "      <td>2017-05-18</td>\n",
       "      <td>Return</td>\n",
       "      <td>0.01</td>\n",
       "      <td>0.01</td>\n",
       "      <td>-1</td>\n",
       "    </tr>\n",
       "    <tr>\n",
       "      <th>1</th>\n",
       "      <td>SKU0457</td>\n",
       "      <td>BRAND011</td>\n",
       "      <td>Cat01</td>\n",
       "      <td>BILL06416</td>\n",
       "      <td>Store 1</td>\n",
       "      <td>2017-05-22</td>\n",
       "      <td>Sale</td>\n",
       "      <td>72.00</td>\n",
       "      <td>72.67</td>\n",
       "      <td>2</td>\n",
       "    </tr>\n",
       "    <tr>\n",
       "      <th>2</th>\n",
       "      <td>SKU1465</td>\n",
       "      <td>BRAND018</td>\n",
       "      <td>Cat07</td>\n",
       "      <td>BILL06417</td>\n",
       "      <td>Store 1</td>\n",
       "      <td>2017-07-01</td>\n",
       "      <td>Return</td>\n",
       "      <td>20.00</td>\n",
       "      <td>20.00</td>\n",
       "      <td>-1</td>\n",
       "    </tr>\n",
       "    <tr>\n",
       "      <th>3</th>\n",
       "      <td>SKU0774</td>\n",
       "      <td>BRAND017</td>\n",
       "      <td>Cat07</td>\n",
       "      <td>BILL06418</td>\n",
       "      <td>Store 1</td>\n",
       "      <td>2017-07-01</td>\n",
       "      <td>Sale</td>\n",
       "      <td>30.67</td>\n",
       "      <td>30.67</td>\n",
       "      <td>1</td>\n",
       "    </tr>\n",
       "    <tr>\n",
       "      <th>4</th>\n",
       "      <td>SKU1695</td>\n",
       "      <td>BRAND017</td>\n",
       "      <td>Cat07</td>\n",
       "      <td>BILL06419</td>\n",
       "      <td>Store 1</td>\n",
       "      <td>2017-07-01</td>\n",
       "      <td>Sale</td>\n",
       "      <td>44.00</td>\n",
       "      <td>44.00</td>\n",
       "      <td>1</td>\n",
       "    </tr>\n",
       "  </tbody>\n",
       "</table>\n",
       "</div>"
      ],
      "text/plain": [
       "  SKU Code Brand Code Category Bill Number Store Code  Sale Date Sale/Return  \\\n",
       "0  SKU1181   BRAND041    Cat06   BILL06415    Store 1 2017-05-18      Return   \n",
       "1  SKU0457   BRAND011    Cat01   BILL06416    Store 1 2017-05-22        Sale   \n",
       "2  SKU1465   BRAND018    Cat07   BILL06417    Store 1 2017-07-01      Return   \n",
       "3  SKU0774   BRAND017    Cat07   BILL06418    Store 1 2017-07-01        Sale   \n",
       "4  SKU1695   BRAND017    Cat07   BILL06419    Store 1 2017-07-01        Sale   \n",
       "\n",
       "     MRP  Sales Price  Sales Qty  \n",
       "0   0.01         0.01         -1  \n",
       "1  72.00        72.67          2  \n",
       "2  20.00        20.00         -1  \n",
       "3  30.67        30.67          1  \n",
       "4  44.00        44.00          1  "
      ]
     },
     "execution_count": 85,
     "metadata": {},
     "output_type": "execute_result"
    }
   ],
   "source": [
    "transactions_df.head()"
   ]
  },
  {
   "cell_type": "markdown",
   "metadata": {},
   "source": [
    "## Dealing with duplicates."
   ]
  },
  {
   "cell_type": "markdown",
   "metadata": {},
   "source": [
    "If SKU Code and Bill Number are the same they are duplicates. However we do not know which of the duplicates is to be removed. Hence a more structured approach is necessary."
   ]
  },
  {
   "cell_type": "markdown",
   "metadata": {},
   "source": [
    "### First we remove duplicates where all the column values are the same. "
   ]
  },
  {
   "cell_type": "code",
   "execution_count": 86,
   "metadata": {
    "collapsed": true
   },
   "outputs": [],
   "source": [
    "transactions_deduplicated = transactions_df.drop_duplicates()"
   ]
  },
  {
   "cell_type": "markdown",
   "metadata": {},
   "source": [
    "Number of rows has reduced."
   ]
  },
  {
   "cell_type": "code",
   "execution_count": 87,
   "metadata": {},
   "outputs": [
    {
     "data": {
      "text/plain": [
       "(55957, 10)"
      ]
     },
     "execution_count": 87,
     "metadata": {},
     "output_type": "execute_result"
    }
   ],
   "source": [
    "transactions_deduplicated.shape"
   ]
  },
  {
   "cell_type": "markdown",
   "metadata": {},
   "source": [
    "### There are some duplicates that show the same transaction but with sales price = 0 as shown below. These can be removed."
   ]
  },
  {
   "cell_type": "markdown",
   "metadata": {},
   "source": [
    "This table shows examples of such duplicates."
   ]
  },
  {
   "cell_type": "code",
   "execution_count": 88,
   "metadata": {},
   "outputs": [
    {
     "data": {
      "text/html": [
       "<div>\n",
       "<style>\n",
       "    .dataframe thead tr:only-child th {\n",
       "        text-align: right;\n",
       "    }\n",
       "\n",
       "    .dataframe thead th {\n",
       "        text-align: left;\n",
       "    }\n",
       "\n",
       "    .dataframe tbody tr th {\n",
       "        vertical-align: top;\n",
       "    }\n",
       "</style>\n",
       "<table border=\"1\" class=\"dataframe\">\n",
       "  <thead>\n",
       "    <tr style=\"text-align: right;\">\n",
       "      <th></th>\n",
       "      <th>SKU Code</th>\n",
       "      <th>Brand Code</th>\n",
       "      <th>Category</th>\n",
       "      <th>Bill Number</th>\n",
       "      <th>Store Code</th>\n",
       "      <th>Sale Date</th>\n",
       "      <th>Sale/Return</th>\n",
       "      <th>MRP</th>\n",
       "      <th>Sales Price</th>\n",
       "      <th>Sales Qty</th>\n",
       "    </tr>\n",
       "  </thead>\n",
       "  <tbody>\n",
       "    <tr>\n",
       "      <th>875</th>\n",
       "      <td>SKU0663</td>\n",
       "      <td>BRAND027</td>\n",
       "      <td>Cat04</td>\n",
       "      <td>BILL06868</td>\n",
       "      <td>Store 1</td>\n",
       "      <td>2017-07-29</td>\n",
       "      <td>Sale</td>\n",
       "      <td>1.33</td>\n",
       "      <td>1.33</td>\n",
       "      <td>1</td>\n",
       "    </tr>\n",
       "    <tr>\n",
       "      <th>877</th>\n",
       "      <td>SKU0663</td>\n",
       "      <td>BRAND027</td>\n",
       "      <td>Cat04</td>\n",
       "      <td>BILL06868</td>\n",
       "      <td>Store 1</td>\n",
       "      <td>2017-07-29</td>\n",
       "      <td>Sale</td>\n",
       "      <td>1.33</td>\n",
       "      <td>0.00</td>\n",
       "      <td>1</td>\n",
       "    </tr>\n",
       "    <tr>\n",
       "      <th>1530</th>\n",
       "      <td>SKU0632</td>\n",
       "      <td>BRAND027</td>\n",
       "      <td>Cat04</td>\n",
       "      <td>BILL07270</td>\n",
       "      <td>Store 1</td>\n",
       "      <td>2017-08-24</td>\n",
       "      <td>Sale</td>\n",
       "      <td>1.33</td>\n",
       "      <td>1.33</td>\n",
       "      <td>1</td>\n",
       "    </tr>\n",
       "    <tr>\n",
       "      <th>1538</th>\n",
       "      <td>SKU0632</td>\n",
       "      <td>BRAND027</td>\n",
       "      <td>Cat04</td>\n",
       "      <td>BILL07270</td>\n",
       "      <td>Store 1</td>\n",
       "      <td>2017-08-24</td>\n",
       "      <td>Sale</td>\n",
       "      <td>1.33</td>\n",
       "      <td>0.00</td>\n",
       "      <td>1</td>\n",
       "    </tr>\n",
       "    <tr>\n",
       "      <th>1997</th>\n",
       "      <td>SKU0640</td>\n",
       "      <td>BRAND027</td>\n",
       "      <td>Cat04</td>\n",
       "      <td>BILL07451</td>\n",
       "      <td>Store 1</td>\n",
       "      <td>2017-09-04</td>\n",
       "      <td>Sale</td>\n",
       "      <td>1.33</td>\n",
       "      <td>1.33</td>\n",
       "      <td>1</td>\n",
       "    </tr>\n",
       "  </tbody>\n",
       "</table>\n",
       "</div>"
      ],
      "text/plain": [
       "     SKU Code Brand Code Category Bill Number Store Code  Sale Date  \\\n",
       "875   SKU0663   BRAND027    Cat04   BILL06868    Store 1 2017-07-29   \n",
       "877   SKU0663   BRAND027    Cat04   BILL06868    Store 1 2017-07-29   \n",
       "1530  SKU0632   BRAND027    Cat04   BILL07270    Store 1 2017-08-24   \n",
       "1538  SKU0632   BRAND027    Cat04   BILL07270    Store 1 2017-08-24   \n",
       "1997  SKU0640   BRAND027    Cat04   BILL07451    Store 1 2017-09-04   \n",
       "\n",
       "     Sale/Return   MRP  Sales Price  Sales Qty  \n",
       "875         Sale  1.33         1.33          1  \n",
       "877         Sale  1.33         0.00          1  \n",
       "1530        Sale  1.33         1.33          1  \n",
       "1538        Sale  1.33         0.00          1  \n",
       "1997        Sale  1.33         1.33          1  "
      ]
     },
     "execution_count": 88,
     "metadata": {},
     "output_type": "execute_result"
    }
   ],
   "source": [
    "transactions_deduplicated[transactions_deduplicated.duplicated(subset=['SKU Code','Bill Number'],keep=False)].head()"
   ]
  },
  {
   "cell_type": "code",
   "execution_count": 89,
   "metadata": {
    "collapsed": true
   },
   "outputs": [],
   "source": [
    "duplicate_indexes = transactions_deduplicated.index[transactions_deduplicated.duplicated(subset=['SKU Code','Bill Number'], \n",
    "                                                                  keep=False\n",
    "                                                                 ) & \n",
    "                          (transactions_deduplicated['Sales Price']==0.00)]\n",
    "transactions_deduplicated = transactions_deduplicated.drop(duplicate_indexes)"
   ]
  },
  {
   "cell_type": "markdown",
   "metadata": {},
   "source": [
    "Number of rows has reduced."
   ]
  },
  {
   "cell_type": "code",
   "execution_count": 90,
   "metadata": {},
   "outputs": [
    {
     "data": {
      "text/plain": [
       "(55158, 10)"
      ]
     },
     "execution_count": 90,
     "metadata": {},
     "output_type": "execute_result"
    }
   ],
   "source": [
    "transactions_deduplicated.shape"
   ]
  },
  {
   "cell_type": "markdown",
   "metadata": {},
   "source": [
    "### There are some duplicates that show the same transaction but with sales qty = 0 as shown below. These can be removed."
   ]
  },
  {
   "cell_type": "code",
   "execution_count": 91,
   "metadata": {
    "collapsed": true
   },
   "outputs": [],
   "source": [
    "duplicate_indexes = transactions_deduplicated.index[transactions_deduplicated.duplicated(subset=['SKU Code','Bill Number'], \n",
    "                                                                  keep=False\n",
    "                                                                 ) & \n",
    "                          (transactions_deduplicated['Sales Qty']==0.00)]\n",
    "transactions_deduplicated = transactions_deduplicated.drop(duplicate_indexes)"
   ]
  },
  {
   "cell_type": "code",
   "execution_count": 92,
   "metadata": {},
   "outputs": [
    {
     "data": {
      "text/plain": [
       "(55152, 10)"
      ]
     },
     "execution_count": 92,
     "metadata": {},
     "output_type": "execute_result"
    }
   ],
   "source": [
    "transactions_deduplicated.shape"
   ]
  },
  {
   "cell_type": "code",
   "execution_count": 93,
   "metadata": {},
   "outputs": [
    {
     "data": {
      "text/plain": [
       "122"
      ]
     },
     "execution_count": 93,
     "metadata": {},
     "output_type": "execute_result"
    }
   ],
   "source": [
    "transactions_deduplicated[transactions_deduplicated.duplicated(subset=['SKU Code','Bill Number'],keep=False)].shape[0]"
   ]
  },
  {
   "cell_type": "markdown",
   "metadata": {},
   "source": [
    "There are 122 remaining but we dont know how to choose right one among the duplicates. We choose to keep the first one."
   ]
  },
  {
   "cell_type": "markdown",
   "metadata": {},
   "source": [
    "### Removing the final duplicates"
   ]
  },
  {
   "cell_type": "code",
   "execution_count": 94,
   "metadata": {
    "collapsed": true
   },
   "outputs": [],
   "source": [
    "transactions_deduplicated.drop_duplicates(subset=['SKU Code','Bill Number'], inplace=True)"
   ]
  },
  {
   "cell_type": "markdown",
   "metadata": {},
   "source": [
    "## Rows with Sales Price > MRP"
   ]
  },
  {
   "cell_type": "code",
   "execution_count": 95,
   "metadata": {},
   "outputs": [
    {
     "data": {
      "text/plain": [
       "1629"
      ]
     },
     "execution_count": 95,
     "metadata": {},
     "output_type": "execute_result"
    }
   ],
   "source": [
    "transactions_deduplicated[(transactions_deduplicated['Sales Price'] - transactions_deduplicated['MRP']) > 0].shape[0]"
   ]
  },
  {
   "cell_type": "markdown",
   "metadata": {},
   "source": [
    "There are 1629 transactions with sales price > MRP."
   ]
  },
  {
   "cell_type": "markdown",
   "metadata": {},
   "source": [
    "### Assuming sales price is recorded wrongly, we restrict the sales price's max value to MRP"
   ]
  },
  {
   "cell_type": "code",
   "execution_count": 96,
   "metadata": {
    "collapsed": true
   },
   "outputs": [],
   "source": [
    "transactions_deduplicated['Sales Price']  =  transactions_deduplicated.apply(lambda row: row['Sales Price'] if row['MRP'] >= row['Sales Price'] else row['MRP'], axis=1)"
   ]
  },
  {
   "cell_type": "markdown",
   "metadata": {},
   "source": [
    "## Rows with MRP = 0 and Sales price = 0"
   ]
  },
  {
   "cell_type": "markdown",
   "metadata": {},
   "source": [
    "### These have to be removed."
   ]
  },
  {
   "cell_type": "code",
   "execution_count": 97,
   "metadata": {},
   "outputs": [
    {
     "data": {
      "text/html": [
       "<div>\n",
       "<style>\n",
       "    .dataframe thead tr:only-child th {\n",
       "        text-align: right;\n",
       "    }\n",
       "\n",
       "    .dataframe thead th {\n",
       "        text-align: left;\n",
       "    }\n",
       "\n",
       "    .dataframe tbody tr th {\n",
       "        vertical-align: top;\n",
       "    }\n",
       "</style>\n",
       "<table border=\"1\" class=\"dataframe\">\n",
       "  <thead>\n",
       "    <tr style=\"text-align: right;\">\n",
       "      <th></th>\n",
       "      <th>SKU Code</th>\n",
       "      <th>Brand Code</th>\n",
       "      <th>Category</th>\n",
       "      <th>Bill Number</th>\n",
       "      <th>Store Code</th>\n",
       "      <th>Sale Date</th>\n",
       "      <th>Sale/Return</th>\n",
       "      <th>MRP</th>\n",
       "      <th>Sales Price</th>\n",
       "      <th>Sales Qty</th>\n",
       "    </tr>\n",
       "  </thead>\n",
       "  <tbody>\n",
       "    <tr>\n",
       "      <th>770</th>\n",
       "      <td>SKU1803</td>\n",
       "      <td>BRAND044</td>\n",
       "      <td>Cat07</td>\n",
       "      <td>BILL06833</td>\n",
       "      <td>Store 1</td>\n",
       "      <td>2017-07-29</td>\n",
       "      <td>Sale</td>\n",
       "      <td>0.0</td>\n",
       "      <td>0.0</td>\n",
       "      <td>1</td>\n",
       "    </tr>\n",
       "    <tr>\n",
       "      <th>773</th>\n",
       "      <td>SKU1798</td>\n",
       "      <td>BRAND044</td>\n",
       "      <td>Cat07</td>\n",
       "      <td>BILL06834</td>\n",
       "      <td>Store 1</td>\n",
       "      <td>2017-07-29</td>\n",
       "      <td>Sale</td>\n",
       "      <td>0.0</td>\n",
       "      <td>0.0</td>\n",
       "      <td>1</td>\n",
       "    </tr>\n",
       "    <tr>\n",
       "      <th>776</th>\n",
       "      <td>SKU1800</td>\n",
       "      <td>BRAND044</td>\n",
       "      <td>Cat07</td>\n",
       "      <td>BILL06835</td>\n",
       "      <td>Store 1</td>\n",
       "      <td>2017-07-29</td>\n",
       "      <td>Sale</td>\n",
       "      <td>0.0</td>\n",
       "      <td>0.0</td>\n",
       "      <td>1</td>\n",
       "    </tr>\n",
       "    <tr>\n",
       "      <th>779</th>\n",
       "      <td>SKU1798</td>\n",
       "      <td>BRAND044</td>\n",
       "      <td>Cat07</td>\n",
       "      <td>BILL06836</td>\n",
       "      <td>Store 1</td>\n",
       "      <td>2017-07-29</td>\n",
       "      <td>Sale</td>\n",
       "      <td>0.0</td>\n",
       "      <td>0.0</td>\n",
       "      <td>1</td>\n",
       "    </tr>\n",
       "    <tr>\n",
       "      <th>782</th>\n",
       "      <td>SKU1798</td>\n",
       "      <td>BRAND044</td>\n",
       "      <td>Cat07</td>\n",
       "      <td>BILL06837</td>\n",
       "      <td>Store 1</td>\n",
       "      <td>2017-07-29</td>\n",
       "      <td>Sale</td>\n",
       "      <td>0.0</td>\n",
       "      <td>0.0</td>\n",
       "      <td>1</td>\n",
       "    </tr>\n",
       "  </tbody>\n",
       "</table>\n",
       "</div>"
      ],
      "text/plain": [
       "    SKU Code Brand Code Category Bill Number Store Code  Sale Date  \\\n",
       "770  SKU1803   BRAND044    Cat07   BILL06833    Store 1 2017-07-29   \n",
       "773  SKU1798   BRAND044    Cat07   BILL06834    Store 1 2017-07-29   \n",
       "776  SKU1800   BRAND044    Cat07   BILL06835    Store 1 2017-07-29   \n",
       "779  SKU1798   BRAND044    Cat07   BILL06836    Store 1 2017-07-29   \n",
       "782  SKU1798   BRAND044    Cat07   BILL06837    Store 1 2017-07-29   \n",
       "\n",
       "    Sale/Return  MRP  Sales Price  Sales Qty  \n",
       "770        Sale  0.0          0.0          1  \n",
       "773        Sale  0.0          0.0          1  \n",
       "776        Sale  0.0          0.0          1  \n",
       "779        Sale  0.0          0.0          1  \n",
       "782        Sale  0.0          0.0          1  "
      ]
     },
     "execution_count": 97,
     "metadata": {},
     "output_type": "execute_result"
    }
   ],
   "source": [
    "transactions_deduplicated[(transactions_deduplicated.MRP == 0) & (transactions_deduplicated['Sales Price'] == 0)].head()"
   ]
  },
  {
   "cell_type": "code",
   "execution_count": 98,
   "metadata": {
    "collapsed": true
   },
   "outputs": [],
   "source": [
    "transactions_deduplicated.drop(transactions_deduplicated[(transactions_deduplicated.MRP == 0) & (transactions_deduplicated['Sales Price'] == 0)].index,inplace=True)"
   ]
  },
  {
   "cell_type": "markdown",
   "metadata": {},
   "source": [
    "## There are some category values that are missing. "
   ]
  },
  {
   "cell_type": "code",
   "execution_count": 99,
   "metadata": {},
   "outputs": [
    {
     "data": {
      "text/plain": [
       "array(['Cat06', 'Cat01', 'Cat07', 'Cat04', 'Cat08', 'Cat03', 'Cat02',\n",
       "       'Cat05', 'Cat09', nan, 'Cat11', 'Cat10'], dtype=object)"
      ]
     },
     "execution_count": 99,
     "metadata": {},
     "output_type": "execute_result"
    }
   ],
   "source": [
    "transactions_deduplicated['Category'].unique()"
   ]
  },
  {
   "cell_type": "markdown",
   "metadata": {},
   "source": [
    "nan indicates missing value"
   ]
  },
  {
   "cell_type": "code",
   "execution_count": 100,
   "metadata": {
    "collapsed": true
   },
   "outputs": [],
   "source": [
    "skus_missing_cat = transactions_deduplicated['SKU Code'][transactions_deduplicated['Category'].isnull()]"
   ]
  },
  {
   "cell_type": "markdown",
   "metadata": {},
   "source": [
    "### We do a check if the correct category values of these SKUs can be obtained from other rows."
   ]
  },
  {
   "cell_type": "markdown",
   "metadata": {},
   "source": [
    "### All instances of these SKUs have missing categories. These rows will be dropped when category column is used in the analysis."
   ]
  },
  {
   "cell_type": "code",
   "execution_count": 101,
   "metadata": {},
   "outputs": [
    {
     "data": {
      "text/plain": [
       "21861    NaN\n",
       "23110    NaN\n",
       "23204    NaN\n",
       "23205    NaN\n",
       "23266    NaN\n",
       "23310    NaN\n",
       "23314    NaN\n",
       "23322    NaN\n",
       "23338    NaN\n",
       "Name: Category, dtype: object"
      ]
     },
     "execution_count": 101,
     "metadata": {},
     "output_type": "execute_result"
    }
   ],
   "source": [
    "transactions_deduplicated['Category'][transactions_deduplicated['SKU Code'].isin(skus_missing_cat)]"
   ]
  },
  {
   "cell_type": "markdown",
   "metadata": {},
   "source": [
    "### A function that plots heatmaps and returns aggregated statistics for the chosen parameters."
   ]
  },
  {
   "cell_type": "code",
   "execution_count": 102,
   "metadata": {
    "collapsed": true
   },
   "outputs": [],
   "source": [
    "def grouping_and_heatmap(ax1,ax2,value,aggregation):\n",
    "    grouped_transactions = transactions_deduplicated.groupby([ax1,ax2])[value].aggregate(aggregation).reset_index()\n",
    "    grouped_transactions = grouped_transactions.pivot(index=ax1, columns=ax2, values=value)\n",
    "    plt.figure(figsize=(12,6))\n",
    "    sns.heatmap(grouped_transactions)\n",
    "    plt.title('%s of %s' % (aggregation, value))\n",
    "    plt.show()\n",
    "    return grouped_transactions"
   ]
  },
  {
   "cell_type": "markdown",
   "metadata": {},
   "source": [
    "### A discount and sale month columns are created to help our analysis"
   ]
  },
  {
   "cell_type": "code",
   "execution_count": 103,
   "metadata": {
    "collapsed": true
   },
   "outputs": [],
   "source": [
    "transactions_deduplicated['Discount']  = transactions_deduplicated.apply(lambda row: (row['MRP'] - row['Sales Price']) * 100 / row['MRP'], axis=1)\n",
    "transactions_deduplicated['Sale Month']  = transactions_deduplicated['Sale Date'].dt.strftime('%m')"
   ]
  },
  {
   "cell_type": "markdown",
   "metadata": {},
   "source": [
    "## Insights from data"
   ]
  },
  {
   "cell_type": "markdown",
   "metadata": {},
   "source": [
    "## Heat map of average discount across stores and months\n",
    "### Shows that highest discounts are during the ending months of the year followed by the starting months\n",
    "### Store 2 has among the highest mean discounts."
   ]
  },
  {
   "cell_type": "code",
   "execution_count": 104,
   "metadata": {},
   "outputs": [
    {
     "data": {
      "image/png": "[encoded data removed]",
      "text/plain": [
       "<matplotlib.figure.Figure at 0x22af8868048>"
      ]
     },
     "metadata": {},
     "output_type": "display_data"
    }
   ],
   "source": [
    "df_store_month_discount = grouping_and_heatmap(\"Store Code\",\"Sale Month\",\"Discount\",\"mean\")"
   ]
  },
  {
   "cell_type": "markdown",
   "metadata": {},
   "source": [
    "### Table showing the mean discount across stores and months."
   ]
  },
  {
   "cell_type": "code",
   "execution_count": 105,
   "metadata": {},
   "outputs": [
    {
     "data": {
      "text/html": [
       "<div>\n",
       "<style>\n",
       "    .dataframe thead tr:only-child th {\n",
       "        text-align: right;\n",
       "    }\n",
       "\n",
       "    .dataframe thead th {\n",
       "        text-align: left;\n",
       "    }\n",
       "\n",
       "    .dataframe tbody tr th {\n",
       "        vertical-align: top;\n",
       "    }\n",
       "</style>\n",
       "<table border=\"1\" class=\"dataframe\">\n",
       "  <thead>\n",
       "    <tr style=\"text-align: right;\">\n",
       "      <th>Sale Month</th>\n",
       "      <th>01</th>\n",
       "      <th>02</th>\n",
       "      <th>03</th>\n",
       "      <th>04</th>\n",
       "      <th>05</th>\n",
       "      <th>06</th>\n",
       "      <th>07</th>\n",
       "      <th>08</th>\n",
       "      <th>09</th>\n",
       "      <th>10</th>\n",
       "      <th>11</th>\n",
       "      <th>12</th>\n",
       "    </tr>\n",
       "    <tr>\n",
       "      <th>Store Code</th>\n",
       "      <th></th>\n",
       "      <th></th>\n",
       "      <th></th>\n",
       "      <th></th>\n",
       "      <th></th>\n",
       "      <th></th>\n",
       "      <th></th>\n",
       "      <th></th>\n",
       "      <th></th>\n",
       "      <th></th>\n",
       "      <th></th>\n",
       "      <th></th>\n",
       "    </tr>\n",
       "  </thead>\n",
       "  <tbody>\n",
       "    <tr>\n",
       "      <th>Store 1</th>\n",
       "      <td>9.525790</td>\n",
       "      <td>7.125200</td>\n",
       "      <td>NaN</td>\n",
       "      <td>NaN</td>\n",
       "      <td>0.000000</td>\n",
       "      <td>0.000000</td>\n",
       "      <td>0.296193</td>\n",
       "      <td>1.573741</td>\n",
       "      <td>3.033975</td>\n",
       "      <td>9.809415</td>\n",
       "      <td>13.029875</td>\n",
       "      <td>11.183224</td>\n",
       "    </tr>\n",
       "    <tr>\n",
       "      <th>Store 2</th>\n",
       "      <td>8.550540</td>\n",
       "      <td>5.757634</td>\n",
       "      <td>0.000000</td>\n",
       "      <td>0.000000</td>\n",
       "      <td>0.000000</td>\n",
       "      <td>0.000000</td>\n",
       "      <td>0.000000</td>\n",
       "      <td>2.481390</td>\n",
       "      <td>9.316770</td>\n",
       "      <td>14.879165</td>\n",
       "      <td>20.586682</td>\n",
       "      <td>15.261427</td>\n",
       "    </tr>\n",
       "    <tr>\n",
       "      <th>Store 3</th>\n",
       "      <td>3.589457</td>\n",
       "      <td>3.814758</td>\n",
       "      <td>NaN</td>\n",
       "      <td>NaN</td>\n",
       "      <td>NaN</td>\n",
       "      <td>NaN</td>\n",
       "      <td>NaN</td>\n",
       "      <td>NaN</td>\n",
       "      <td>9.757038</td>\n",
       "      <td>8.366894</td>\n",
       "      <td>9.112637</td>\n",
       "      <td>4.690741</td>\n",
       "    </tr>\n",
       "    <tr>\n",
       "      <th>Store 4</th>\n",
       "      <td>6.542201</td>\n",
       "      <td>6.053629</td>\n",
       "      <td>NaN</td>\n",
       "      <td>NaN</td>\n",
       "      <td>NaN</td>\n",
       "      <td>NaN</td>\n",
       "      <td>NaN</td>\n",
       "      <td>0.000000</td>\n",
       "      <td>1.025500</td>\n",
       "      <td>11.653188</td>\n",
       "      <td>9.205678</td>\n",
       "      <td>7.128066</td>\n",
       "    </tr>\n",
       "    <tr>\n",
       "      <th>Store 5</th>\n",
       "      <td>6.264604</td>\n",
       "      <td>4.545625</td>\n",
       "      <td>0.000000</td>\n",
       "      <td>0.000000</td>\n",
       "      <td>0.054304</td>\n",
       "      <td>0.013869</td>\n",
       "      <td>0.000000</td>\n",
       "      <td>0.680620</td>\n",
       "      <td>1.352860</td>\n",
       "      <td>11.464296</td>\n",
       "      <td>15.320130</td>\n",
       "      <td>12.352373</td>\n",
       "    </tr>\n",
       "    <tr>\n",
       "      <th>Store 6</th>\n",
       "      <td>0.000000</td>\n",
       "      <td>0.000000</td>\n",
       "      <td>0.067135</td>\n",
       "      <td>0.073801</td>\n",
       "      <td>0.038607</td>\n",
       "      <td>0.000000</td>\n",
       "      <td>0.052800</td>\n",
       "      <td>0.000000</td>\n",
       "      <td>NaN</td>\n",
       "      <td>NaN</td>\n",
       "      <td>NaN</td>\n",
       "      <td>NaN</td>\n",
       "    </tr>\n",
       "  </tbody>\n",
       "</table>\n",
       "</div>"
      ],
      "text/plain": [
       "Sale Month        01        02        03        04        05        06  \\\n",
       "Store Code                                                               \n",
       "Store 1     9.525790  7.125200       NaN       NaN  0.000000  0.000000   \n",
       "Store 2     8.550540  5.757634  0.000000  0.000000  0.000000  0.000000   \n",
       "Store 3     3.589457  3.814758       NaN       NaN       NaN       NaN   \n",
       "Store 4     6.542201  6.053629       NaN       NaN       NaN       NaN   \n",
       "Store 5     6.264604  4.545625  0.000000  0.000000  0.054304  0.013869   \n",
       "Store 6     0.000000  0.000000  0.067135  0.073801  0.038607  0.000000   \n",
       "\n",
       "Sale Month        07        08        09         10         11         12  \n",
       "Store Code                                                                 \n",
       "Store 1     0.296193  1.573741  3.033975   9.809415  13.029875  11.183224  \n",
       "Store 2     0.000000  2.481390  9.316770  14.879165  20.586682  15.261427  \n",
       "Store 3          NaN       NaN  9.757038   8.366894   9.112637   4.690741  \n",
       "Store 4          NaN  0.000000  1.025500  11.653188   9.205678   7.128066  \n",
       "Store 5     0.000000  0.680620  1.352860  11.464296  15.320130  12.352373  \n",
       "Store 6     0.052800  0.000000       NaN        NaN        NaN        NaN  "
      ]
     },
     "execution_count": 105,
     "metadata": {},
     "output_type": "execute_result"
    }
   ],
   "source": [
    "df_store_month_discount"
   ]
  },
  {
   "cell_type": "markdown",
   "metadata": {},
   "source": [
    "## Heat map of total sales quantity across stores and months\n",
    "### Shows that highest sales quantities are during the ending months of the year followed by the starting months\n",
    "### Store 5 during Feb saw highest sales volume ."
   ]
  },
  {
   "cell_type": "code",
   "execution_count": 106,
   "metadata": {},
   "outputs": [
    {
     "data": {
      "image/png": "[encoded data removed]",
      "text/plain": [
       "<matplotlib.figure.Figure at 0x22af9c4ce48>"
      ]
     },
     "metadata": {},
     "output_type": "display_data"
    }
   ],
   "source": [
    "df_store_month_qty = grouping_and_heatmap(\"Store Code\",\"Sale Month\",\"Sales Qty\",\"sum\")"
   ]
  },
  {
   "cell_type": "markdown",
   "metadata": {},
   "source": [
    "### Table showing the total sales quantity across stores and months."
   ]
  },
  {
   "cell_type": "code",
   "execution_count": 107,
   "metadata": {},
   "outputs": [
    {
     "data": {
      "text/html": [
       "<div>\n",
       "<style>\n",
       "    .dataframe thead tr:only-child th {\n",
       "        text-align: right;\n",
       "    }\n",
       "\n",
       "    .dataframe thead th {\n",
       "        text-align: left;\n",
       "    }\n",
       "\n",
       "    .dataframe tbody tr th {\n",
       "        vertical-align: top;\n",
       "    }\n",
       "</style>\n",
       "<table border=\"1\" class=\"dataframe\">\n",
       "  <thead>\n",
       "    <tr style=\"text-align: right;\">\n",
       "      <th>Sale Month</th>\n",
       "      <th>01</th>\n",
       "      <th>02</th>\n",
       "      <th>03</th>\n",
       "      <th>04</th>\n",
       "      <th>05</th>\n",
       "      <th>06</th>\n",
       "      <th>07</th>\n",
       "      <th>08</th>\n",
       "      <th>09</th>\n",
       "      <th>10</th>\n",
       "      <th>11</th>\n",
       "      <th>12</th>\n",
       "    </tr>\n",
       "    <tr>\n",
       "      <th>Store Code</th>\n",
       "      <th></th>\n",
       "      <th></th>\n",
       "      <th></th>\n",
       "      <th></th>\n",
       "      <th></th>\n",
       "      <th></th>\n",
       "      <th></th>\n",
       "      <th></th>\n",
       "      <th></th>\n",
       "      <th></th>\n",
       "      <th></th>\n",
       "      <th></th>\n",
       "    </tr>\n",
       "  </thead>\n",
       "  <tbody>\n",
       "    <tr>\n",
       "      <th>Store 1</th>\n",
       "      <td>1375.0</td>\n",
       "      <td>1280.0</td>\n",
       "      <td>NaN</td>\n",
       "      <td>NaN</td>\n",
       "      <td>180.0</td>\n",
       "      <td>462.0</td>\n",
       "      <td>870.0</td>\n",
       "      <td>764.0</td>\n",
       "      <td>1439.0</td>\n",
       "      <td>1766.0</td>\n",
       "      <td>1923.0</td>\n",
       "      <td>1922.0</td>\n",
       "    </tr>\n",
       "    <tr>\n",
       "      <th>Store 2</th>\n",
       "      <td>1051.0</td>\n",
       "      <td>985.0</td>\n",
       "      <td>476.0</td>\n",
       "      <td>408.0</td>\n",
       "      <td>477.0</td>\n",
       "      <td>445.0</td>\n",
       "      <td>475.0</td>\n",
       "      <td>806.0</td>\n",
       "      <td>483.0</td>\n",
       "      <td>1073.0</td>\n",
       "      <td>1017.0</td>\n",
       "      <td>1669.0</td>\n",
       "    </tr>\n",
       "    <tr>\n",
       "      <th>Store 3</th>\n",
       "      <td>1657.0</td>\n",
       "      <td>1514.0</td>\n",
       "      <td>NaN</td>\n",
       "      <td>NaN</td>\n",
       "      <td>NaN</td>\n",
       "      <td>NaN</td>\n",
       "      <td>NaN</td>\n",
       "      <td>NaN</td>\n",
       "      <td>1219.0</td>\n",
       "      <td>1434.0</td>\n",
       "      <td>1257.0</td>\n",
       "      <td>1569.0</td>\n",
       "    </tr>\n",
       "    <tr>\n",
       "      <th>Store 4</th>\n",
       "      <td>1479.0</td>\n",
       "      <td>1446.0</td>\n",
       "      <td>NaN</td>\n",
       "      <td>NaN</td>\n",
       "      <td>NaN</td>\n",
       "      <td>NaN</td>\n",
       "      <td>NaN</td>\n",
       "      <td>190.0</td>\n",
       "      <td>1506.0</td>\n",
       "      <td>1553.0</td>\n",
       "      <td>1279.0</td>\n",
       "      <td>1621.0</td>\n",
       "    </tr>\n",
       "    <tr>\n",
       "      <th>Store 5</th>\n",
       "      <td>1811.0</td>\n",
       "      <td>2110.0</td>\n",
       "      <td>700.0</td>\n",
       "      <td>623.0</td>\n",
       "      <td>515.0</td>\n",
       "      <td>617.0</td>\n",
       "      <td>992.0</td>\n",
       "      <td>1063.0</td>\n",
       "      <td>1357.0</td>\n",
       "      <td>1439.0</td>\n",
       "      <td>1700.0</td>\n",
       "      <td>1906.0</td>\n",
       "    </tr>\n",
       "    <tr>\n",
       "      <th>Store 6</th>\n",
       "      <td>334.0</td>\n",
       "      <td>304.0</td>\n",
       "      <td>240.0</td>\n",
       "      <td>283.0</td>\n",
       "      <td>314.0</td>\n",
       "      <td>309.0</td>\n",
       "      <td>290.0</td>\n",
       "      <td>253.0</td>\n",
       "      <td>NaN</td>\n",
       "      <td>NaN</td>\n",
       "      <td>NaN</td>\n",
       "      <td>NaN</td>\n",
       "    </tr>\n",
       "  </tbody>\n",
       "</table>\n",
       "</div>"
      ],
      "text/plain": [
       "Sale Month      01      02     03     04     05     06     07      08      09  \\\n",
       "Store Code                                                                      \n",
       "Store 1     1375.0  1280.0    NaN    NaN  180.0  462.0  870.0   764.0  1439.0   \n",
       "Store 2     1051.0   985.0  476.0  408.0  477.0  445.0  475.0   806.0   483.0   \n",
       "Store 3     1657.0  1514.0    NaN    NaN    NaN    NaN    NaN     NaN  1219.0   \n",
       "Store 4     1479.0  1446.0    NaN    NaN    NaN    NaN    NaN   190.0  1506.0   \n",
       "Store 5     1811.0  2110.0  700.0  623.0  515.0  617.0  992.0  1063.0  1357.0   \n",
       "Store 6      334.0   304.0  240.0  283.0  314.0  309.0  290.0   253.0     NaN   \n",
       "\n",
       "Sale Month      10      11      12  \n",
       "Store Code                          \n",
       "Store 1     1766.0  1923.0  1922.0  \n",
       "Store 2     1073.0  1017.0  1669.0  \n",
       "Store 3     1434.0  1257.0  1569.0  \n",
       "Store 4     1553.0  1279.0  1621.0  \n",
       "Store 5     1439.0  1700.0  1906.0  \n",
       "Store 6        NaN     NaN     NaN  "
      ]
     },
     "execution_count": 107,
     "metadata": {},
     "output_type": "execute_result"
    }
   ],
   "source": [
    "df_store_month_qty"
   ]
  },
  {
   "cell_type": "markdown",
   "metadata": {},
   "source": [
    "## Heat map of average selling price across stores and months\n",
    "### Store 6 has most expensive products sold on average. Could be indication of higher income area."
   ]
  },
  {
   "cell_type": "code",
   "execution_count": 108,
   "metadata": {},
   "outputs": [
    {
     "data": {
      "image/png": "[encoded data removed]",
      "text/plain": [
       "<matplotlib.figure.Figure at 0x22afaa95f98>"
      ]
     },
     "metadata": {},
     "output_type": "display_data"
    }
   ],
   "source": [
    "df_store_month_price = grouping_and_heatmap(\"Store Code\",\"Sale Month\",\"Sales Price\",\"mean\")"
   ]
  },
  {
   "cell_type": "markdown",
   "metadata": {},
   "source": [
    "----------------"
   ]
  },
  {
   "cell_type": "markdown",
   "metadata": {},
   "source": [
    "## Deep dive into categories."
   ]
  },
  {
   "cell_type": "markdown",
   "metadata": {},
   "source": [
    "### Dropping rows where category value is missing."
   ]
  },
  {
   "cell_type": "code",
   "execution_count": 109,
   "metadata": {
    "collapsed": true
   },
   "outputs": [],
   "source": [
    "transactions_deduplicated.drop(transactions_deduplicated[transactions_deduplicated['Category'].isnull()].index,inplace=True)"
   ]
  },
  {
   "cell_type": "markdown",
   "metadata": {},
   "source": [
    "### This function groups by store, month and category and aggregates the column given in argument. \n",
    "### Plots a barplot as well."
   ]
  },
  {
   "cell_type": "code",
   "execution_count": 110,
   "metadata": {
    "collapsed": true
   },
   "outputs": [],
   "source": [
    "def store_month_category_grouping(value,aggregation):\n",
    "    grouped_transactions = transactions_deduplicated.groupby(['Store Code','Sale Month','Category'])[value].aggregate(aggregation).reset_index()\n",
    "    plt.figure(figsize=(15,8))\n",
    "    grouped_transactions = grouped_transactions.sort_values(value,ascending=False).reset_index()\n",
    "    sns.set(style=\"whitegrid\")\n",
    "    ax = sns.barplot(x=grouped_transactions[['Store Code', 'Sale Month','Category']].apply(lambda x: '-'.join(x), axis=1).head(8), y=value, data=grouped_transactions.head(8))\n",
    "    plt.show()\n",
    "    return grouped_transactions\n",
    "    "
   ]
  },
  {
   "cell_type": "markdown",
   "metadata": {},
   "source": [
    "-------------------------"
   ]
  },
  {
   "cell_type": "markdown",
   "metadata": {},
   "source": [
    "## Average Discount"
   ]
  },
  {
   "cell_type": "markdown",
   "metadata": {},
   "source": [
    "### Bar plot of mean discounts in each store-month-category.\n",
    "### It is sorted and top 8 are displayed.\n",
    "### Store 2 in November and category 4 had the highest average discounts\n",
    "### Highest average discounts are in category 4."
   ]
  },
  {
   "cell_type": "code",
   "execution_count": 111,
   "metadata": {},
   "outputs": [
    {
     "data": {
      "image/png": "[encoded data removed]",
      "text/plain": [
       "<matplotlib.figure.Figure at 0x22afaa955f8>"
      ]
     },
     "metadata": {},
     "output_type": "display_data"
    }
   ],
   "source": [
    "df_discounts = store_month_category_grouping(\"Discount\",\"mean\").sort_values(\"Discount\",ascending=False).reset_index()"
   ]
  },
  {
   "cell_type": "markdown",
   "metadata": {},
   "source": [
    "### Table of average discount for each store and each month."
   ]
  },
  {
   "cell_type": "code",
   "execution_count": 112,
   "metadata": {},
   "outputs": [
    {
     "data": {
      "text/html": [
       "<div>\n",
       "<style>\n",
       "    .dataframe thead tr:only-child th {\n",
       "        text-align: right;\n",
       "    }\n",
       "\n",
       "    .dataframe thead th {\n",
       "        text-align: left;\n",
       "    }\n",
       "\n",
       "    .dataframe tbody tr th {\n",
       "        vertical-align: top;\n",
       "    }\n",
       "</style>\n",
       "<table border=\"1\" class=\"dataframe\">\n",
       "  <thead>\n",
       "    <tr style=\"text-align: right;\">\n",
       "      <th></th>\n",
       "      <th>level_0</th>\n",
       "      <th>index</th>\n",
       "      <th>Store Code</th>\n",
       "      <th>Sale Month</th>\n",
       "      <th>Category</th>\n",
       "      <th>Discount</th>\n",
       "    </tr>\n",
       "  </thead>\n",
       "  <tbody>\n",
       "    <tr>\n",
       "      <th>0</th>\n",
       "      <td>0</td>\n",
       "      <td>113</td>\n",
       "      <td>Store 2</td>\n",
       "      <td>11</td>\n",
       "      <td>Cat04</td>\n",
       "      <td>31.985940</td>\n",
       "    </tr>\n",
       "    <tr>\n",
       "      <th>1</th>\n",
       "      <td>1</td>\n",
       "      <td>312</td>\n",
       "      <td>Store 5</td>\n",
       "      <td>11</td>\n",
       "      <td>Cat04</td>\n",
       "      <td>23.482764</td>\n",
       "    </tr>\n",
       "    <tr>\n",
       "      <th>2</th>\n",
       "      <td>2</td>\n",
       "      <td>106</td>\n",
       "      <td>Store 2</td>\n",
       "      <td>10</td>\n",
       "      <td>Cat04</td>\n",
       "      <td>22.738391</td>\n",
       "    </tr>\n",
       "    <tr>\n",
       "      <th>3</th>\n",
       "      <td>3</td>\n",
       "      <td>320</td>\n",
       "      <td>Store 5</td>\n",
       "      <td>12</td>\n",
       "      <td>Cat04</td>\n",
       "      <td>21.561922</td>\n",
       "    </tr>\n",
       "    <tr>\n",
       "      <th>4</th>\n",
       "      <td>4</td>\n",
       "      <td>120</td>\n",
       "      <td>Store 2</td>\n",
       "      <td>12</td>\n",
       "      <td>Cat04</td>\n",
       "      <td>20.064385</td>\n",
       "    </tr>\n",
       "  </tbody>\n",
       "</table>\n",
       "</div>"
      ],
      "text/plain": [
       "   level_0  index Store Code Sale Month Category   Discount\n",
       "0        0    113    Store 2         11    Cat04  31.985940\n",
       "1        1    312    Store 5         11    Cat04  23.482764\n",
       "2        2    106    Store 2         10    Cat04  22.738391\n",
       "3        3    320    Store 5         12    Cat04  21.561922\n",
       "4        4    120    Store 2         12    Cat04  20.064385"
      ]
     },
     "execution_count": 112,
     "metadata": {},
     "output_type": "execute_result"
    }
   ],
   "source": [
    "df_discounts.head()"
   ]
  },
  {
   "cell_type": "markdown",
   "metadata": {},
   "source": [
    "------------------------------------------------------"
   ]
  },
  {
   "cell_type": "markdown",
   "metadata": {},
   "source": [
    "## Total Sales Quantities"
   ]
  },
  {
   "cell_type": "markdown",
   "metadata": {},
   "source": [
    "### Bar plot of total sales quantities in each store-month-category.\n",
    "### It is sorted and top 8 are displayed.\n",
    "### Store 1 in December and category 4 had the highest average discounts\n",
    "### Again category 4 comes among the top in sales quantities."
   ]
  },
  {
   "cell_type": "code",
   "execution_count": 113,
   "metadata": {},
   "outputs": [
    {
     "data": {
      "image/png": "[encoded data removed]",
      "text/plain": [
       "<matplotlib.figure.Figure at 0x22afaaa3e48>"
      ]
     },
     "metadata": {},
     "output_type": "display_data"
    }
   ],
   "source": [
    "df_salesQty = store_month_category_grouping(\"Sales Qty\",\"sum\")"
   ]
  },
  {
   "cell_type": "markdown",
   "metadata": {},
   "source": [
    "### Table of total sales quantities for each store, month and category"
   ]
  },
  {
   "cell_type": "code",
   "execution_count": 114,
   "metadata": {},
   "outputs": [
    {
     "data": {
      "text/html": [
       "<div>\n",
       "<style>\n",
       "    .dataframe thead tr:only-child th {\n",
       "        text-align: right;\n",
       "    }\n",
       "\n",
       "    .dataframe thead th {\n",
       "        text-align: left;\n",
       "    }\n",
       "\n",
       "    .dataframe tbody tr th {\n",
       "        vertical-align: top;\n",
       "    }\n",
       "</style>\n",
       "<table border=\"1\" class=\"dataframe\">\n",
       "  <thead>\n",
       "    <tr style=\"text-align: right;\">\n",
       "      <th></th>\n",
       "      <th>index</th>\n",
       "      <th>Store Code</th>\n",
       "      <th>Sale Month</th>\n",
       "      <th>Category</th>\n",
       "      <th>Sales Qty</th>\n",
       "    </tr>\n",
       "  </thead>\n",
       "  <tbody>\n",
       "    <tr>\n",
       "      <th>0</th>\n",
       "      <td>43</td>\n",
       "      <td>Store 1</td>\n",
       "      <td>12</td>\n",
       "      <td>Cat04</td>\n",
       "      <td>1413</td>\n",
       "    </tr>\n",
       "    <tr>\n",
       "      <th>1</th>\n",
       "      <td>38</td>\n",
       "      <td>Store 1</td>\n",
       "      <td>11</td>\n",
       "      <td>Cat04</td>\n",
       "      <td>1362</td>\n",
       "    </tr>\n",
       "    <tr>\n",
       "      <th>2</th>\n",
       "      <td>120</td>\n",
       "      <td>Store 2</td>\n",
       "      <td>12</td>\n",
       "      <td>Cat04</td>\n",
       "      <td>1334</td>\n",
       "    </tr>\n",
       "    <tr>\n",
       "      <th>3</th>\n",
       "      <td>34</td>\n",
       "      <td>Store 1</td>\n",
       "      <td>10</td>\n",
       "      <td>Cat04</td>\n",
       "      <td>1248</td>\n",
       "    </tr>\n",
       "    <tr>\n",
       "      <th>4</th>\n",
       "      <td>29</td>\n",
       "      <td>Store 1</td>\n",
       "      <td>09</td>\n",
       "      <td>Cat04</td>\n",
       "      <td>1108</td>\n",
       "    </tr>\n",
       "  </tbody>\n",
       "</table>\n",
       "</div>"
      ],
      "text/plain": [
       "   index Store Code Sale Month Category  Sales Qty\n",
       "0     43    Store 1         12    Cat04       1413\n",
       "1     38    Store 1         11    Cat04       1362\n",
       "2    120    Store 2         12    Cat04       1334\n",
       "3     34    Store 1         10    Cat04       1248\n",
       "4     29    Store 1         09    Cat04       1108"
      ]
     },
     "execution_count": 114,
     "metadata": {},
     "output_type": "execute_result"
    }
   ],
   "source": [
    "df_salesQty.head()"
   ]
  },
  {
   "cell_type": "markdown",
   "metadata": {},
   "source": [
    "--------------------------"
   ]
  },
  {
   "cell_type": "markdown",
   "metadata": {},
   "source": [
    "## Average Sales Price"
   ]
  },
  {
   "cell_type": "markdown",
   "metadata": {},
   "source": [
    "### Bar plot of average sales price in each store-month-category.\n",
    "### It is sorted and top 8 are displayed.\n",
    "### Store 1 in November and category 8 had the highest average sales price.\n",
    "### Category 8 has the highest sales prices."
   ]
  },
  {
   "cell_type": "code",
   "execution_count": 115,
   "metadata": {},
   "outputs": [
    {
     "data": {
      "image/png": "[encoded data removed]",
      "text/plain": [
       "<matplotlib.figure.Figure at 0x22af86df320>"
      ]
     },
     "metadata": {},
     "output_type": "display_data"
    }
   ],
   "source": [
    "df_salesPrice = store_month_category_grouping(\"Sales Price\",\"mean\").head()"
   ]
  },
  {
   "cell_type": "markdown",
   "metadata": {},
   "source": [
    "### Table of average sales price for each store, month and category"
   ]
  },
  {
   "cell_type": "code",
   "execution_count": 116,
   "metadata": {},
   "outputs": [
    {
     "data": {
      "text/html": [
       "<div>\n",
       "<style>\n",
       "    .dataframe thead tr:only-child th {\n",
       "        text-align: right;\n",
       "    }\n",
       "\n",
       "    .dataframe thead th {\n",
       "        text-align: left;\n",
       "    }\n",
       "\n",
       "    .dataframe tbody tr th {\n",
       "        vertical-align: top;\n",
       "    }\n",
       "</style>\n",
       "<table border=\"1\" class=\"dataframe\">\n",
       "  <thead>\n",
       "    <tr style=\"text-align: right;\">\n",
       "      <th></th>\n",
       "      <th>index</th>\n",
       "      <th>Store Code</th>\n",
       "      <th>Sale Month</th>\n",
       "      <th>Category</th>\n",
       "      <th>Sales Price</th>\n",
       "    </tr>\n",
       "  </thead>\n",
       "  <tbody>\n",
       "    <tr>\n",
       "      <th>0</th>\n",
       "      <td>41</td>\n",
       "      <td>Store 1</td>\n",
       "      <td>11</td>\n",
       "      <td>Cat08</td>\n",
       "      <td>213.320</td>\n",
       "    </tr>\n",
       "    <tr>\n",
       "      <th>1</th>\n",
       "      <td>46</td>\n",
       "      <td>Store 1</td>\n",
       "      <td>12</td>\n",
       "      <td>Cat08</td>\n",
       "      <td>199.322</td>\n",
       "    </tr>\n",
       "    <tr>\n",
       "      <th>2</th>\n",
       "      <td>36</td>\n",
       "      <td>Store 1</td>\n",
       "      <td>10</td>\n",
       "      <td>Cat08</td>\n",
       "      <td>178.325</td>\n",
       "    </tr>\n",
       "    <tr>\n",
       "      <th>3</th>\n",
       "      <td>5</td>\n",
       "      <td>Store 1</td>\n",
       "      <td>01</td>\n",
       "      <td>Cat08</td>\n",
       "      <td>171.326</td>\n",
       "    </tr>\n",
       "    <tr>\n",
       "      <th>4</th>\n",
       "      <td>32</td>\n",
       "      <td>Store 1</td>\n",
       "      <td>09</td>\n",
       "      <td>Cat08</td>\n",
       "      <td>171.326</td>\n",
       "    </tr>\n",
       "  </tbody>\n",
       "</table>\n",
       "</div>"
      ],
      "text/plain": [
       "   index Store Code Sale Month Category  Sales Price\n",
       "0     41    Store 1         11    Cat08      213.320\n",
       "1     46    Store 1         12    Cat08      199.322\n",
       "2     36    Store 1         10    Cat08      178.325\n",
       "3      5    Store 1         01    Cat08      171.326\n",
       "4     32    Store 1         09    Cat08      171.326"
      ]
     },
     "execution_count": 116,
     "metadata": {},
     "output_type": "execute_result"
    }
   ],
   "source": [
    "df_salesPrice.head()"
   ]
  },
  {
   "cell_type": "markdown",
   "metadata": {},
   "source": [
    "--------------------"
   ]
  },
  {
   "cell_type": "markdown",
   "metadata": {},
   "source": [
    "##  Assuming each brand has 50% margin - which are the top contributing brands to the profits of the retailer?"
   ]
  },
  {
   "cell_type": "markdown",
   "metadata": {},
   "source": [
    "### A profit column is made."
   ]
  },
  {
   "cell_type": "code",
   "execution_count": 117,
   "metadata": {
    "collapsed": true
   },
   "outputs": [],
   "source": [
    "margin = 0.5\n",
    "transactions_deduplicated['Profit']  = transactions_deduplicated.apply(lambda row: ((margin * row['Sales Price'])/(1+margin)) * row['Sales Qty'], axis=1)"
   ]
  },
  {
   "cell_type": "markdown",
   "metadata": {},
   "source": [
    "### A dataframe with aggregated brand profits is made and sorted."
   ]
  },
  {
   "cell_type": "code",
   "execution_count": 118,
   "metadata": {
    "collapsed": true
   },
   "outputs": [],
   "source": [
    "aggregated_brand_profits = transactions_deduplicated.groupby(['Brand Code'])['Profit'].aggregate(\"sum\").sort_values(ascending=False).reset_index()"
   ]
  },
  {
   "cell_type": "markdown",
   "metadata": {},
   "source": [
    "### Top 10 brands in profits"
   ]
  },
  {
   "cell_type": "code",
   "execution_count": 119,
   "metadata": {},
   "outputs": [
    {
     "data": {
      "text/html": [
       "<div>\n",
       "<style>\n",
       "    .dataframe thead tr:only-child th {\n",
       "        text-align: right;\n",
       "    }\n",
       "\n",
       "    .dataframe thead th {\n",
       "        text-align: left;\n",
       "    }\n",
       "\n",
       "    .dataframe tbody tr th {\n",
       "        vertical-align: top;\n",
       "    }\n",
       "</style>\n",
       "<table border=\"1\" class=\"dataframe\">\n",
       "  <thead>\n",
       "    <tr style=\"text-align: right;\">\n",
       "      <th></th>\n",
       "      <th>Brand Code</th>\n",
       "      <th>Profit</th>\n",
       "    </tr>\n",
       "  </thead>\n",
       "  <tbody>\n",
       "    <tr>\n",
       "      <th>0</th>\n",
       "      <td>BRAND017</td>\n",
       "      <td>53299.083333</td>\n",
       "    </tr>\n",
       "    <tr>\n",
       "      <th>1</th>\n",
       "      <td>BRAND018</td>\n",
       "      <td>37037.793333</td>\n",
       "    </tr>\n",
       "    <tr>\n",
       "      <th>2</th>\n",
       "      <td>BRAND001</td>\n",
       "      <td>25294.190000</td>\n",
       "    </tr>\n",
       "    <tr>\n",
       "      <th>3</th>\n",
       "      <td>BRAND003</td>\n",
       "      <td>23037.170000</td>\n",
       "    </tr>\n",
       "    <tr>\n",
       "      <th>4</th>\n",
       "      <td>BRAND011</td>\n",
       "      <td>18461.876667</td>\n",
       "    </tr>\n",
       "    <tr>\n",
       "      <th>5</th>\n",
       "      <td>BRAND007</td>\n",
       "      <td>16516.180000</td>\n",
       "    </tr>\n",
       "    <tr>\n",
       "      <th>6</th>\n",
       "      <td>BRAND005</td>\n",
       "      <td>15399.173333</td>\n",
       "    </tr>\n",
       "    <tr>\n",
       "      <th>7</th>\n",
       "      <td>BRAND027</td>\n",
       "      <td>14614.700000</td>\n",
       "    </tr>\n",
       "    <tr>\n",
       "      <th>8</th>\n",
       "      <td>BRAND002</td>\n",
       "      <td>12848.250000</td>\n",
       "    </tr>\n",
       "    <tr>\n",
       "      <th>9</th>\n",
       "      <td>BRAND034</td>\n",
       "      <td>11078.090000</td>\n",
       "    </tr>\n",
       "  </tbody>\n",
       "</table>\n",
       "</div>"
      ],
      "text/plain": [
       "  Brand Code        Profit\n",
       "0   BRAND017  53299.083333\n",
       "1   BRAND018  37037.793333\n",
       "2   BRAND001  25294.190000\n",
       "3   BRAND003  23037.170000\n",
       "4   BRAND011  18461.876667\n",
       "5   BRAND007  16516.180000\n",
       "6   BRAND005  15399.173333\n",
       "7   BRAND027  14614.700000\n",
       "8   BRAND002  12848.250000\n",
       "9   BRAND034  11078.090000"
      ]
     },
     "execution_count": 119,
     "metadata": {},
     "output_type": "execute_result"
    }
   ],
   "source": [
    "aggregated_brand_profits.head(10)"
   ]
  },
  {
   "cell_type": "markdown",
   "metadata": {},
   "source": [
    "### Bar plot of the top profit contributing brands "
   ]
  },
  {
   "cell_type": "code",
   "execution_count": 120,
   "metadata": {},
   "outputs": [
    {
     "data": {
      "image/png": "[encoded data removed]",
      "text/plain": [
       "<matplotlib.figure.Figure at 0x22af8edb630>"
      ]
     },
     "metadata": {},
     "output_type": "display_data"
    }
   ],
   "source": [
    "plt.figure(figsize=(15,8))\n",
    "sns.set(style=\"whitegrid\")\n",
    "ax = sns.barplot(x='Brand Code', y='Profit', data=aggregated_brand_profits.head(8))\n",
    "plt.show()"
   ]
  },
  {
   "cell_type": "markdown",
   "metadata": {},
   "source": [
    "------------------------------------------------------------------------------------------------"
   ]
  },
  {
   "cell_type": "markdown",
   "metadata": {},
   "source": [
    "## Highest Revenue Generating Store"
   ]
  },
  {
   "cell_type": "markdown",
   "metadata": {},
   "source": [
    "### Creating a revenue column by multiplying SP and Qty."
   ]
  },
  {
   "cell_type": "code",
   "execution_count": 121,
   "metadata": {
    "collapsed": true
   },
   "outputs": [],
   "source": [
    "transactions_deduplicated['Revenue']  = transactions_deduplicated.apply(lambda row: row['Sales Price'] * row['Sales Qty'], axis=1)"
   ]
  },
  {
   "cell_type": "markdown",
   "metadata": {},
   "source": [
    "### A dataframe with aggreagated revenue for each store is made and sorted."
   ]
  },
  {
   "cell_type": "code",
   "execution_count": 122,
   "metadata": {
    "collapsed": true
   },
   "outputs": [],
   "source": [
    "aggregated_store_revenue = transactions_deduplicated.groupby(['Store Code'])['Revenue'].aggregate(\"sum\").sort_values(ascending=False).reset_index()"
   ]
  },
  {
   "cell_type": "markdown",
   "metadata": {},
   "source": [
    "### Barplot of stores and revenues.\n",
    "### Store 5 has the highest revenue"
   ]
  },
  {
   "cell_type": "code",
   "execution_count": 123,
   "metadata": {},
   "outputs": [
    {
     "data": {
      "image/png": "[encoded data removed]",
      "text/plain": [
       "<matplotlib.figure.Figure at 0x22af9c55dd8>"
      ]
     },
     "metadata": {},
     "output_type": "display_data"
    }
   ],
   "source": [
    "plt.figure(figsize=(15,8))\n",
    "sns.set(style=\"whitegrid\")\n",
    "ax = sns.barplot(x='Store Code', y='Revenue', data=aggregated_store_revenue)\n",
    "plt.show()"
   ]
  },
  {
   "cell_type": "markdown",
   "metadata": {},
   "source": [
    "### Digging in further."
   ]
  },
  {
   "cell_type": "markdown",
   "metadata": {},
   "source": [
    "## Store 5 had really high turnover in February and January. December also saw really high revenue."
   ]
  },
  {
   "cell_type": "code",
   "execution_count": 124,
   "metadata": {},
   "outputs": [
    {
     "data": {
      "image/png": "[encoded data removed]",
      "text/plain": [
       "<matplotlib.figure.Figure at 0x22afabc0cf8>"
      ]
     },
     "metadata": {},
     "output_type": "display_data"
    },
    {
     "data": {
      "text/html": [
       "<div>\n",
       "<style>\n",
       "    .dataframe thead tr:only-child th {\n",
       "        text-align: right;\n",
       "    }\n",
       "\n",
       "    .dataframe thead th {\n",
       "        text-align: left;\n",
       "    }\n",
       "\n",
       "    .dataframe tbody tr th {\n",
       "        vertical-align: top;\n",
       "    }\n",
       "</style>\n",
       "<table border=\"1\" class=\"dataframe\">\n",
       "  <thead>\n",
       "    <tr style=\"text-align: right;\">\n",
       "      <th>Sale Month</th>\n",
       "      <th>01</th>\n",
       "      <th>02</th>\n",
       "      <th>03</th>\n",
       "      <th>04</th>\n",
       "      <th>05</th>\n",
       "      <th>06</th>\n",
       "      <th>07</th>\n",
       "      <th>08</th>\n",
       "      <th>09</th>\n",
       "      <th>10</th>\n",
       "      <th>11</th>\n",
       "      <th>12</th>\n",
       "    </tr>\n",
       "    <tr>\n",
       "      <th>Store Code</th>\n",
       "      <th></th>\n",
       "      <th></th>\n",
       "      <th></th>\n",
       "      <th></th>\n",
       "      <th></th>\n",
       "      <th></th>\n",
       "      <th></th>\n",
       "      <th></th>\n",
       "      <th></th>\n",
       "      <th></th>\n",
       "      <th></th>\n",
       "      <th></th>\n",
       "    </tr>\n",
       "  </thead>\n",
       "  <tbody>\n",
       "    <tr>\n",
       "      <th>Store 1</th>\n",
       "      <td>25941.24</td>\n",
       "      <td>27711.88</td>\n",
       "      <td>NaN</td>\n",
       "      <td>NaN</td>\n",
       "      <td>7512.66</td>\n",
       "      <td>17188.45</td>\n",
       "      <td>21619.31</td>\n",
       "      <td>19346.05</td>\n",
       "      <td>21542.66</td>\n",
       "      <td>27749.58</td>\n",
       "      <td>30751.95</td>\n",
       "      <td>31698.51</td>\n",
       "    </tr>\n",
       "    <tr>\n",
       "      <th>Store 2</th>\n",
       "      <td>16769.58</td>\n",
       "      <td>21063.42</td>\n",
       "      <td>27477.16</td>\n",
       "      <td>24946.62</td>\n",
       "      <td>28514.22</td>\n",
       "      <td>27782.41</td>\n",
       "      <td>30402.12</td>\n",
       "      <td>22523.66</td>\n",
       "      <td>12795.33</td>\n",
       "      <td>22107.55</td>\n",
       "      <td>19214.75</td>\n",
       "      <td>18795.74</td>\n",
       "    </tr>\n",
       "    <tr>\n",
       "      <th>Store 3</th>\n",
       "      <td>14761.95</td>\n",
       "      <td>13515.49</td>\n",
       "      <td>NaN</td>\n",
       "      <td>NaN</td>\n",
       "      <td>NaN</td>\n",
       "      <td>NaN</td>\n",
       "      <td>NaN</td>\n",
       "      <td>NaN</td>\n",
       "      <td>5415.18</td>\n",
       "      <td>10322.18</td>\n",
       "      <td>10006.93</td>\n",
       "      <td>12498.00</td>\n",
       "    </tr>\n",
       "    <tr>\n",
       "      <th>Store 4</th>\n",
       "      <td>10465.12</td>\n",
       "      <td>9764.61</td>\n",
       "      <td>NaN</td>\n",
       "      <td>NaN</td>\n",
       "      <td>NaN</td>\n",
       "      <td>NaN</td>\n",
       "      <td>NaN</td>\n",
       "      <td>1207.55</td>\n",
       "      <td>8893.69</td>\n",
       "      <td>8609.62</td>\n",
       "      <td>7306.21</td>\n",
       "      <td>9417.43</td>\n",
       "    </tr>\n",
       "    <tr>\n",
       "      <th>Store 5</th>\n",
       "      <td>45157.38</td>\n",
       "      <td>55368.58</td>\n",
       "      <td>21748.52</td>\n",
       "      <td>20525.53</td>\n",
       "      <td>18281.79</td>\n",
       "      <td>19820.40</td>\n",
       "      <td>23112.74</td>\n",
       "      <td>21623.21</td>\n",
       "      <td>17410.52</td>\n",
       "      <td>17540.44</td>\n",
       "      <td>21230.87</td>\n",
       "      <td>32794.89</td>\n",
       "    </tr>\n",
       "    <tr>\n",
       "      <th>Store 6</th>\n",
       "      <td>20234.76</td>\n",
       "      <td>18822.27</td>\n",
       "      <td>15112.84</td>\n",
       "      <td>18419.19</td>\n",
       "      <td>19895.94</td>\n",
       "      <td>20873.10</td>\n",
       "      <td>18636.61</td>\n",
       "      <td>17148.56</td>\n",
       "      <td>NaN</td>\n",
       "      <td>NaN</td>\n",
       "      <td>NaN</td>\n",
       "      <td>NaN</td>\n",
       "    </tr>\n",
       "  </tbody>\n",
       "</table>\n",
       "</div>"
      ],
      "text/plain": [
       "Sale Month        01        02        03        04        05        06  \\\n",
       "Store Code                                                               \n",
       "Store 1     25941.24  27711.88       NaN       NaN   7512.66  17188.45   \n",
       "Store 2     16769.58  21063.42  27477.16  24946.62  28514.22  27782.41   \n",
       "Store 3     14761.95  13515.49       NaN       NaN       NaN       NaN   \n",
       "Store 4     10465.12   9764.61       NaN       NaN       NaN       NaN   \n",
       "Store 5     45157.38  55368.58  21748.52  20525.53  18281.79  19820.40   \n",
       "Store 6     20234.76  18822.27  15112.84  18419.19  19895.94  20873.10   \n",
       "\n",
       "Sale Month        07        08        09        10        11        12  \n",
       "Store Code                                                              \n",
       "Store 1     21619.31  19346.05  21542.66  27749.58  30751.95  31698.51  \n",
       "Store 2     30402.12  22523.66  12795.33  22107.55  19214.75  18795.74  \n",
       "Store 3          NaN       NaN   5415.18  10322.18  10006.93  12498.00  \n",
       "Store 4          NaN   1207.55   8893.69   8609.62   7306.21   9417.43  \n",
       "Store 5     23112.74  21623.21  17410.52  17540.44  21230.87  32794.89  \n",
       "Store 6     18636.61  17148.56       NaN       NaN       NaN       NaN  "
      ]
     },
     "execution_count": 124,
     "metadata": {},
     "output_type": "execute_result"
    }
   ],
   "source": [
    "grouping_and_heatmap(\"Store Code\",\"Sale Month\",\"Revenue\",\"sum\")\n",
    "\n"
   ]
  },
  {
   "cell_type": "markdown",
   "metadata": {},
   "source": [
    "## Store 5 saw most turnover in category 1 and category7"
   ]
  },
  {
   "cell_type": "code",
   "execution_count": 125,
   "metadata": {},
   "outputs": [
    {
     "data": {
      "image/png": "[encoded data removed]",
      "text/plain": [
       "<matplotlib.figure.Figure at 0x22afaab3e48>"
      ]
     },
     "metadata": {},
     "output_type": "display_data"
    },
    {
     "data": {
      "text/html": [
       "<div>\n",
       "<style>\n",
       "    .dataframe thead tr:only-child th {\n",
       "        text-align: right;\n",
       "    }\n",
       "\n",
       "    .dataframe thead th {\n",
       "        text-align: left;\n",
       "    }\n",
       "\n",
       "    .dataframe tbody tr th {\n",
       "        vertical-align: top;\n",
       "    }\n",
       "</style>\n",
       "<table border=\"1\" class=\"dataframe\">\n",
       "  <thead>\n",
       "    <tr style=\"text-align: right;\">\n",
       "      <th>Category</th>\n",
       "      <th>Cat01</th>\n",
       "      <th>Cat02</th>\n",
       "      <th>Cat03</th>\n",
       "      <th>Cat04</th>\n",
       "      <th>Cat05</th>\n",
       "      <th>Cat06</th>\n",
       "      <th>Cat07</th>\n",
       "      <th>Cat08</th>\n",
       "      <th>Cat09</th>\n",
       "      <th>Cat10</th>\n",
       "      <th>Cat11</th>\n",
       "    </tr>\n",
       "    <tr>\n",
       "      <th>Store Code</th>\n",
       "      <th></th>\n",
       "      <th></th>\n",
       "      <th></th>\n",
       "      <th></th>\n",
       "      <th></th>\n",
       "      <th></th>\n",
       "      <th></th>\n",
       "      <th></th>\n",
       "      <th></th>\n",
       "      <th></th>\n",
       "      <th></th>\n",
       "    </tr>\n",
       "  </thead>\n",
       "  <tbody>\n",
       "    <tr>\n",
       "      <th>Store 1</th>\n",
       "      <td>50077.94</td>\n",
       "      <td>NaN</td>\n",
       "      <td>322.67</td>\n",
       "      <td>76150.03</td>\n",
       "      <td>NaN</td>\n",
       "      <td>838.69</td>\n",
       "      <td>98539.88</td>\n",
       "      <td>5133.08</td>\n",
       "      <td>NaN</td>\n",
       "      <td>NaN</td>\n",
       "      <td>NaN</td>\n",
       "    </tr>\n",
       "    <tr>\n",
       "      <th>Store 2</th>\n",
       "      <td>248685.30</td>\n",
       "      <td>3173.06</td>\n",
       "      <td>1835.86</td>\n",
       "      <td>11180.29</td>\n",
       "      <td>722.73</td>\n",
       "      <td>140.34</td>\n",
       "      <td>5751.68</td>\n",
       "      <td>722.52</td>\n",
       "      <td>180.78</td>\n",
       "      <td>NaN</td>\n",
       "      <td>NaN</td>\n",
       "    </tr>\n",
       "    <tr>\n",
       "      <th>Store 3</th>\n",
       "      <td>2926.30</td>\n",
       "      <td>2085.34</td>\n",
       "      <td>2479.25</td>\n",
       "      <td>15770.69</td>\n",
       "      <td>795.66</td>\n",
       "      <td>9.27</td>\n",
       "      <td>37903.83</td>\n",
       "      <td>3905.20</td>\n",
       "      <td>71.37</td>\n",
       "      <td>296.54</td>\n",
       "      <td>276.28</td>\n",
       "    </tr>\n",
       "    <tr>\n",
       "      <th>Store 4</th>\n",
       "      <td>3206.61</td>\n",
       "      <td>2217.64</td>\n",
       "      <td>2178.61</td>\n",
       "      <td>10954.63</td>\n",
       "      <td>762.09</td>\n",
       "      <td>19.34</td>\n",
       "      <td>32244.10</td>\n",
       "      <td>3743.56</td>\n",
       "      <td>85.13</td>\n",
       "      <td>164.78</td>\n",
       "      <td>87.74</td>\n",
       "    </tr>\n",
       "    <tr>\n",
       "      <th>Store 5</th>\n",
       "      <td>138223.95</td>\n",
       "      <td>4455.36</td>\n",
       "      <td>2344.87</td>\n",
       "      <td>43936.08</td>\n",
       "      <td>799.76</td>\n",
       "      <td>1006.23</td>\n",
       "      <td>122321.27</td>\n",
       "      <td>1154.02</td>\n",
       "      <td>373.43</td>\n",
       "      <td>-0.10</td>\n",
       "      <td>NaN</td>\n",
       "    </tr>\n",
       "    <tr>\n",
       "      <th>Store 6</th>\n",
       "      <td>148183.92</td>\n",
       "      <td>339.59</td>\n",
       "      <td>282.41</td>\n",
       "      <td>62.10</td>\n",
       "      <td>199.88</td>\n",
       "      <td>-0.01</td>\n",
       "      <td>NaN</td>\n",
       "      <td>75.38</td>\n",
       "      <td>NaN</td>\n",
       "      <td>NaN</td>\n",
       "      <td>NaN</td>\n",
       "    </tr>\n",
       "  </tbody>\n",
       "</table>\n",
       "</div>"
      ],
      "text/plain": [
       "Category        Cat01    Cat02    Cat03     Cat04   Cat05    Cat06      Cat07  \\\n",
       "Store Code                                                                      \n",
       "Store 1      50077.94      NaN   322.67  76150.03     NaN   838.69   98539.88   \n",
       "Store 2     248685.30  3173.06  1835.86  11180.29  722.73   140.34    5751.68   \n",
       "Store 3       2926.30  2085.34  2479.25  15770.69  795.66     9.27   37903.83   \n",
       "Store 4       3206.61  2217.64  2178.61  10954.63  762.09    19.34   32244.10   \n",
       "Store 5     138223.95  4455.36  2344.87  43936.08  799.76  1006.23  122321.27   \n",
       "Store 6     148183.92   339.59   282.41     62.10  199.88    -0.01        NaN   \n",
       "\n",
       "Category      Cat08   Cat09   Cat10   Cat11  \n",
       "Store Code                                   \n",
       "Store 1     5133.08     NaN     NaN     NaN  \n",
       "Store 2      722.52  180.78     NaN     NaN  \n",
       "Store 3     3905.20   71.37  296.54  276.28  \n",
       "Store 4     3743.56   85.13  164.78   87.74  \n",
       "Store 5     1154.02  373.43   -0.10     NaN  \n",
       "Store 6       75.38     NaN     NaN     NaN  "
      ]
     },
     "execution_count": 125,
     "metadata": {},
     "output_type": "execute_result"
    }
   ],
   "source": [
    "grouping_and_heatmap(\"Store Code\",\"Category\",\"Revenue\",\"sum\")"
   ]
  }
 ],
 "metadata": {
  "kernelspec": {
   "display_name": "Python 3",
   "language": "python",
   "name": "python3"
  },
  "language_info": {
   "codemirror_mode": {
    "name": "ipython",
    "version": 3
   },
   "file_extension": ".py",
   "mimetype": "text/x-python",
   "name": "python",
   "nbconvert_exporter": "python",
   "pygments_lexer": "ipython3",
   "version": "3.6.1"
  }
 },
 "nbformat": 4,
 "nbformat_minor": 2
}
